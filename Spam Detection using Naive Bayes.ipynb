{
 "cells": [
  {
   "cell_type": "markdown",
   "metadata": {},
   "source": [
    "# Spam Detection using Naive Bayes "
   ]
  },
  {
   "cell_type": "code",
   "execution_count": 1,
   "metadata": {},
   "outputs": [],
   "source": [
    "import numpy as np "
   ]
  },
  {
   "cell_type": "markdown",
   "metadata": {},
   "source": [
    "## Collecting the Dataset "
   ]
  },
  {
   "cell_type": "code",
   "execution_count": 1,
   "metadata": {},
   "outputs": [],
   "source": [
    "spam = [\n",
    "    \"Free entry in 2 a wkly comp to win FA Cup final tkts 21st May 2005. Text FA to 87121 to receive entry question(std txt rate)T&C's apply 08452810075over18's\", \n",
    "    \"WINNER!! As a valued network customer you have been selected to receivea $900 prize reward! To claim call 09061701461. Claim code KL341. Valid 12 hours only.\", \n",
    "    \"URGENT! You have won a 1 week FREE membership in our $100,000 Prize Jackpot! Txt the word: CLAIM to No: 81010 T&C www.dbuk.net LCCLTD POBOX 4403LDNW1A7RW18.\", \n",
    "    \"Please call our new customer service representative on 0800 169 6031 you WON a prize\", \n",
    "    \"We are trying to contact you. Last weekends customer draw shows that you won a £1000 prize GUARANTEED. Calling years\", \n",
    "]"
   ]
  },
  {
   "cell_type": "code",
   "execution_count": 2,
   "metadata": {},
   "outputs": [],
   "source": [
    "# leave one sentence from spam for testing our model later \n",
    "spam_test = [\"Please call our new customer service representative on 0800 169 6031 you WON a prize\"]\n"
   ]
  },
  {
   "cell_type": "code",
   "execution_count": 3,
   "metadata": {},
   "outputs": [],
   "source": [
    "non = [\n",
    "    \"I don't think he goes to usf, he lives around here though\", \n",
    "    \"New car and house for my parents. i have only new job in hand\", \n",
    "    \"Great escape. I fancy the bridge but needs her lager. See you tomorrow\", \n",
    "    \"Tired. I haven't slept well the past few nights.\",\n",
    "    \"Too late. I said i have the website. I didn't i have or dont have the slippers\", \n",
    "    \"I might come by tonight then if my class lets out early\", \n",
    "    \"Jos ask if u wana meet up?\", \n",
    "    \"That would be great. We'll be at the Guild. We can try meeting with the customer on Bristol road or somewhere\"\n",
    "    ]"
   ]
  },
  {
   "cell_type": "code",
   "execution_count": 4,
   "metadata": {},
   "outputs": [],
   "source": [
    "# another sentence from non for testing our model \n",
    "spam_test_2 = [\"That would be great. We'll be at the Guild. We can try meeting with the customer on Bristol road or somewhere\"]"
   ]
  },
  {
   "cell_type": "markdown",
   "metadata": {},
   "source": [
    "## Basic Pre-Processing"
   ]
  },
  {
   "cell_type": "code",
   "execution_count": null,
   "metadata": {},
   "outputs": [],
   "source": [
    "# !pip install gensim"
   ]
  },
  {
   "cell_type": "code",
   "execution_count": 5,
   "metadata": {},
   "outputs": [],
   "source": [
    "from gensim.parsing.preprocessing import remove_stopwords\n",
    "from gensim.parsing.porter import PorterStemmer\n",
    "from gensim.utils import tokenize"
   ]
  },
  {
   "cell_type": "code",
   "execution_count": 6,
   "metadata": {},
   "outputs": [
    {
     "name": "stdout",
     "output_type": "stream",
     "text": [
      "I might come by tonight then if my class lets out early\n",
      "I come tonight class lets early\n",
      "i come tonight class lets earli\n",
      "['i', 'come', 'tonight', 'class', 'lets', 'earli']\n"
     ]
    }
   ],
   "source": [
    "#test_sentence = non[4]\n",
    "test_sentence = non[5]\n",
    "\n",
    "\n",
    "print(test_sentence)\n",
    "\n",
    "removed_stops = remove_stopwords(test_sentence)\n",
    "print(removed_stops)\n",
    "\n",
    "p = PorterStemmer()\n",
    "stemmed = p.stem(removed_stops)\n",
    "print(stemmed)\n",
    "\n",
    "tokens = tokenize(stemmed)\n",
    "print(list(tokens))"
   ]
  },
  {
   "cell_type": "markdown",
   "metadata": {},
   "source": [
    "## Create a dictionary of words "
   ]
  },
  {
   "cell_type": "code",
   "execution_count": 7,
   "metadata": {},
   "outputs": [],
   "source": [
    "def tokenize_sentence(sentence): \n",
    "    p = PorterStemmer()\n",
    "    removed_stops = remove_stopwords(sentence)\n",
    "    stemmed = p.stem(removed_stops)\n",
    "    tokens = tokenize(stemmed)\n",
    "    return list(tokens)"
   ]
  },
  {
   "cell_type": "code",
   "execution_count": 8,
   "metadata": {},
   "outputs": [
    {
     "name": "stdout",
     "output_type": "stream",
     "text": [
      "Tokenized spam:  [['free', 'entry', 'wkly', 'comp', 'win', 'fa', 'cup', 'final', 'tkts', 'st', 'may', 'text', 'fa', 'receive', 'entry', 'question', 'std', 'txt', 'rate', 't', 'c', 's', 'apply', 'over'], ['winner', 'as', 'valued', 'network', 'customer', 'selected', 'receivea', 'prize', 'reward', 'to', 'claim', 'claim', 'code', 'kl', 'valid', 'hours', 'only'], ['urgent', 'you', 'won', 'week', 'free', 'membership', 'prize', 'jackpot', 'txt', 'word', 'claim', 'no', 't', 'c', 'www', 'dbuk', 'net', 'lccltd', 'pobox', 'ldnw', 'a', 'rw'], ['please', 'new', 'customer', 'service', 'representative', 'won', 'pr'], ['we', 'trying', 'contact', 'you', 'last', 'weekends', 'customer', 'draw', 'shows', 'won', 'prize', 'guaranteed', 'calling', 'year']]\n",
      "Tokenized non:   [['i', 'don', 't', 'think', 'goes', 'usf', 'l'], ['new', 'car', 'house', 'parents', 'new', 'job', 'hand'], ['great', 'escape', 'i', 'fancy', 'bridge', 'needs', 'lager', 'see', 'tomorrow'], ['tired', 'i', 'haven', 't', 'slept', 'past', 'nights'], ['too', 'late', 'i', 'said', 'website', 'i', 'didn', 't', 'dont', 'slipp'], ['i', 'come', 'tonight', 'class', 'lets', 'earli'], ['jos', 'ask', 'u', 'wana', 'meet', 'up'], ['that', 'great', 'we', 'll', 'guild', 'we', 'try', 'meeting', 'customer', 'bristol', 'road']]\n",
      "Dictionary:      {'claim', 'winner', 'll', 'comp', 'may', 'text', 'std', 'we', 'year', 'dont', 'wana', 'website', 'bristol', 'earli', 'membership', 'txt', 'think', 'draw', 'new', 'usf', 'rw', 'class', 'dbuk', 'i', 'come', 'lccltd', 'final', 'entry', 'receive', 'apply', 'guild', 'c', 'slept', 'jackpot', 'net', 'pobox', 'won', 'jos', 'tonight', 'hours', 'fancy', 'network', 'nights', 'weekends', 'didn', 'last', 'great', 'guaranteed', 'meet', 'www', 'see', 'customer', 'car', 'trying', 'that', 'lets', 'selected', 'don', 'cup', 'tkts', 'question', 'prize', 'a', 'win', 'please', 'calling', 'to', 'try', 'free', 'meeting', 'needs', 'over', 's', 'escape', 'representative', 'receivea', 'shows', 'job', 'contact', 'haven', 'slipp', 'wkly', 'road', 'said', 'only', 'hand', 'rate', 'urgent', 'word', 'house', 'bridge', 'service', 'ldnw', 'pr', 'goes', 'tomorrow', 'tired', 'valid', 'code', 'u', 'week', 'no', 'up', 'valued', 'lager', 'l', 'reward', 'fa', 'parents', 'you', 'late', 'st', 'as', 'kl', 'too', 'ask', 'past', 't'}\n"
     ]
    }
   ],
   "source": [
    "dictionary = set()     # will have unique values only \n",
    "spams_tokenized = [] \n",
    "nons_tokenized = [] \n",
    "\n",
    "\n",
    "for sentence in spam:      \n",
    "    sentence_tokens = tokenize_sentence(sentence)\n",
    "    spams_tokenized.append(sentence_tokens)\n",
    "    dictionary  = dictionary.union(sentence_tokens)   # add sentence words to the dictionary  \n",
    "    \n",
    "    \n",
    "\n",
    "for sentence in non:      \n",
    "    sentence_tokens = tokenize_sentence(sentence)\n",
    "    nons_tokenized.append(sentence_tokens)\n",
    "    dictionary  = dictionary.union(sentence_tokens)\n",
    "\n",
    "\n",
    "    \n",
    "print(\"Tokenized spam: \", spams_tokenized)\n",
    "print(\"Tokenized non:  \", nons_tokenized)\n",
    "print(\"Dictionary:     \", dictionary)"
   ]
  },
  {
   "cell_type": "markdown",
   "metadata": {},
   "source": [
    "## Basic Stats "
   ]
  },
  {
   "cell_type": "code",
   "execution_count": 10,
   "metadata": {},
   "outputs": [
    {
     "name": "stdout",
     "output_type": "stream",
     "text": [
      "Total Number of words:  118\n"
     ]
    }
   ],
   "source": [
    "# These things do not depend on an individual word so let's calculate them separately once \n",
    "\n",
    "total_word_count = len(dictionary)\n",
    "total_spam_messages = len(spams_tokenized) \n",
    "total_all_messages = len(spams_tokenized) + len(nons_tokenized)\n",
    "\n",
    "print(\"Total Number of words: \", total_word_count)"
   ]
  },
  {
   "cell_type": "code",
   "execution_count": 11,
   "metadata": {},
   "outputs": [
    {
     "name": "stdout",
     "output_type": "stream",
     "text": [
      "P(spam) =  0.38461538461538464\n"
     ]
    }
   ],
   "source": [
    "# P(spam) does not depend on an individual word so let's calculate that separately once \n",
    "\n",
    "p_spam = total_spam_messages / total_all_messages\n",
    "\n",
    "print(\"P(spam) = \", p_spam)"
   ]
  },
  {
   "cell_type": "code",
   "execution_count": 12,
   "metadata": {},
   "outputs": [],
   "source": [
    "# Helper function to count occurances \n",
    "\n",
    "def count_word_in_messages(word, messages): \n",
    "    total_count = 0\n",
    "    for msg in messages: \n",
    "        if word in msg:       # this ensured uniqueness automatically  \n",
    "            total_count += 1 \n",
    "            \n",
    "    return total_count "
   ]
  },
  {
   "cell_type": "markdown",
   "metadata": {},
   "source": [
    "## The Actual Probability Computation "
   ]
  },
  {
   "cell_type": "code",
   "execution_count": 13,
   "metadata": {},
   "outputs": [
    {
     "name": "stdout",
     "output_type": "stream",
     "text": [
      "['please', 'new', 'customer', 'service', 'representative', 'won', 'pr']\n",
      "----------------\n",
      "Runnig for word: please\n",
      "P( w | spam)  =  0.2\n",
      "P( w )        =  0.07692307692307693\n",
      "P( spam )     =  0.38461538461538464\n",
      "P( spam | w ) =  1.0\n",
      "\n",
      "----------------\n",
      "Runnig for word: new\n",
      "P( w | spam)  =  0.2\n",
      "P( w )        =  0.15384615384615385\n",
      "P( spam )     =  0.38461538461538464\n",
      "P( spam | w ) =  0.5\n",
      "\n",
      "----------------\n",
      "Runnig for word: customer\n",
      "P( w | spam)  =  0.6\n",
      "P( w )        =  0.3076923076923077\n",
      "P( spam )     =  0.38461538461538464\n",
      "P( spam | w ) =  0.75\n",
      "\n",
      "----------------\n",
      "Runnig for word: service\n",
      "P( w | spam)  =  0.2\n",
      "P( w )        =  0.07692307692307693\n",
      "P( spam )     =  0.38461538461538464\n",
      "P( spam | w ) =  1.0\n",
      "\n",
      "----------------\n",
      "Runnig for word: representative\n",
      "P( w | spam)  =  0.2\n",
      "P( w )        =  0.07692307692307693\n",
      "P( spam )     =  0.38461538461538464\n",
      "P( spam | w ) =  1.0\n",
      "\n",
      "----------------\n",
      "Runnig for word: won\n",
      "P( w | spam)  =  0.6\n",
      "P( w )        =  0.23076923076923078\n",
      "P( spam )     =  0.38461538461538464\n",
      "P( spam | w ) =  1.0\n",
      "\n",
      "----------------\n",
      "Runnig for word: pr\n",
      "P( w | spam)  =  0.2\n",
      "P( w )        =  0.07692307692307693\n",
      "P( spam )     =  0.38461538461538464\n",
      "P( spam | w ) =  1.0\n",
      "\n",
      "P( spam | all_words ) =  0.375\n"
     ]
    }
   ],
   "source": [
    "final_prob = 1   # can't start from 0 \n",
    "\n",
    "\n",
    "for test_sentence in spam_test: \n",
    "    test_sentence = tokenize_sentence(test_sentence)\n",
    "    print(test_sentence)\n",
    "    \n",
    "    # let's run this for each word separately \n",
    "    for word in test_sentence: \n",
    "        print(\"----------------\")\n",
    "        print(\"Runnig for word:\", word)\n",
    "        \n",
    "        # Find P( w | spam)\n",
    "        spam_count = count_word_in_messages(word, spams_tokenized)\n",
    "        p_w_spam = spam_count / total_spam_messages \n",
    "        print(\"P( w | spam)  = \", p_w_spam)\n",
    "        \n",
    "        # Find P( w )\n",
    "        w_count = count_word_in_messages(word, spams_tokenized)\n",
    "        w_count += count_word_in_messages(word, nons_tokenized)\n",
    "        p_w = w_count / total_all_messages\n",
    "        print(\"P( w )        = \", p_w)\n",
    "        \n",
    "        \n",
    "        # Find P( spam | w )\n",
    "        p_spam_w = (p_w_spam * p_spam) / p_w\n",
    "        print(\"P( spam )     = \", p_spam)\n",
    "        print(\"P( spam | w ) = \", p_spam_w)\n",
    "        print(\"\")\n",
    "        final_prob *= p_spam_w\n",
    "        \n",
    "        \n",
    "    print(\"P( spam | all_words ) = \", final_prob)"
   ]
  }
 ],
 "metadata": {
  "kernelspec": {
   "display_name": "Python 3 (ipykernel)",
   "language": "python",
   "name": "python3"
  },
  "language_info": {
   "codemirror_mode": {
    "name": "ipython",
    "version": 3
   },
   "file_extension": ".py",
   "mimetype": "text/x-python",
   "name": "python",
   "nbconvert_exporter": "python",
   "pygments_lexer": "ipython3",
   "version": "3.9.13"
  }
 },
 "nbformat": 4,
 "nbformat_minor": 4
}
